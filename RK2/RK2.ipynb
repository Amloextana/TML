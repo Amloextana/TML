{
  "metadata": {
    "kernelspec": {
      "name": "python",
      "display_name": "Python (Pyodide)",
      "language": "python"
    },
    "language_info": {
      "codemirror_mode": {
        "name": "python",
        "version": 3
      },
      "file_extension": ".py",
      "mimetype": "text/x-python",
      "name": "python",
      "nbconvert_exporter": "python",
      "pygments_lexer": "ipython3",
      "version": "3.8"
    }
  },
  "nbformat_minor": 4,
  "nbformat": 4,
  "cells": [
    {
      "cell_type": "markdown",
      "source": "# РК №2\nЗадание. Для заданного набора данных (по Вашему варианту) постройте модели классификации или регрессии (в зависимости от конкретной задачи, рассматриваемой в наборе данных). Для построения моделей используйте методы 1 и 2 (по варианту для Вашей группы). Оцените качество моделей на основе подходящих метрик качества (не менее двух метрик). Какие метрики качества Вы использовали и почему? Какие выводы Вы можете сделать о качестве построенных моделей? Для построения моделей необходимо выполнить требуемую предобработку данных: заполнение пропусков, кодирование категориальных признаков, и т.д.\n\nИУ5-65Б: Метод опорных векторов, Градиентный бустинг\n\nhttps://www.kaggle.com/fivethirtyeight/fivethirtyeight-comic-characters-dataset (файл marvel-wikia-data.csv)",
      "metadata": {}
    },
    {
      "cell_type": "code",
      "source": "%pip install -q seaborn\n%pip install -q xgboost",
      "metadata": {
        "trusted": true
      },
      "outputs": [],
      "execution_count": 205
    },
    {
      "cell_type": "code",
      "source": "import numpy as np\nimport pandas as pd\nfrom scipy import stats\nfrom sklearn.model_selection import train_test_split\nfrom sklearn.metrics import accuracy_score\nfrom sklearn.metrics import precision_score, recall_score, f1_score, classification_report\nfrom sklearn.metrics import mean_absolute_error, mean_squared_error, mean_squared_log_error, median_absolute_error, r2_score \nfrom sklearn.preprocessing import MinMaxScaler\nfrom sklearn.svm import SVC, NuSVC, LinearSVC, OneClassSVM, SVR, NuSVR, LinearSVR\nfrom sklearn.model_selection import RandomizedSearchCV\nfrom sklearn.ensemble import AdaBoostClassifier, GradientBoostingClassifier\nimport seaborn as sns\nimport matplotlib.pyplot as plt\nfrom xgboost import XGBClassifier\n%matplotlib inline \nsns.set(style=\"ticks\")",
      "metadata": {
        "trusted": true
      },
      "outputs": [],
      "execution_count": 207
    },
    {
      "cell_type": "code",
      "source": "data = pd.read_csv('marvel-wikia-data.csv')",
      "metadata": {
        "trusted": true
      },
      "outputs": [],
      "execution_count": 3
    },
    {
      "cell_type": "code",
      "source": "data",
      "metadata": {
        "trusted": true
      },
      "outputs": [
        {
          "execution_count": 4,
          "output_type": "execute_result",
          "data": {
            "text/plain": "       page_id                                 name  \\\n0         1678            Spider-Man (Peter Parker)   \n1         7139      Captain America (Steven Rogers)   \n2        64786  Wolverine (James \\\"Logan\\\" Howlett)   \n3         1868    Iron Man (Anthony \\\"Tony\\\" Stark)   \n4         2460                  Thor (Thor Odinson)   \n...        ...                                  ...   \n16371   657508                   Ru'ach (Earth-616)   \n16372   665474      Thane (Thanos' son) (Earth-616)   \n16373   695217        Tinkerer (Skrull) (Earth-616)   \n16374   708811       TK421 (Spiderling) (Earth-616)   \n16375   673702                Yologarch (Earth-616)   \n\n                                       urlslug                ID  \\\n0                  \\/Spider-Man_(Peter_Parker)   Secret Identity   \n1            \\/Captain_America_(Steven_Rogers)   Public Identity   \n2      \\/Wolverine_(James_%22Logan%22_Howlett)   Public Identity   \n3        \\/Iron_Man_(Anthony_%22Tony%22_Stark)   Public Identity   \n4                        \\/Thor_(Thor_Odinson)  No Dual Identity   \n...                                        ...               ...   \n16371                   \\/Ru%27ach_(Earth-616)  No Dual Identity   \n16372      \\/Thane_(Thanos%27_son)_(Earth-616)  No Dual Identity   \n16373          \\/Tinkerer_(Skrull)_(Earth-616)   Secret Identity   \n16374         \\/TK421_(Spiderling)_(Earth-616)   Secret Identity   \n16375                  \\/Yologarch_(Earth-616)               NaN   \n\n                    ALIGN         EYE        HAIR              SEX  GSM  \\\n0         Good Characters  Hazel Eyes  Brown Hair  Male Characters  NaN   \n1         Good Characters   Blue Eyes  White Hair  Male Characters  NaN   \n2      Neutral Characters   Blue Eyes  Black Hair  Male Characters  NaN   \n3         Good Characters   Blue Eyes  Black Hair  Male Characters  NaN   \n4         Good Characters   Blue Eyes  Blond Hair  Male Characters  NaN   \n...                   ...         ...         ...              ...  ...   \n16371      Bad Characters  Green Eyes     No Hair  Male Characters  NaN   \n16372     Good Characters   Blue Eyes        Bald  Male Characters  NaN   \n16373      Bad Characters  Black Eyes        Bald  Male Characters  NaN   \n16374  Neutral Characters         NaN         NaN  Male Characters  NaN   \n16375      Bad Characters         NaN         NaN              NaN  NaN   \n\n                   ALIVE  APPEARANCES FIRST APPEARANCE    Year  \n0      Living Characters       4043.0           Aug-62  1962.0  \n1      Living Characters       3360.0           Mar-41  1941.0  \n2      Living Characters       3061.0           Oct-74  1974.0  \n3      Living Characters       2961.0           Mar-63  1963.0  \n4      Living Characters       2258.0           Nov-50  1950.0  \n...                  ...          ...              ...     ...  \n16371  Living Characters          NaN              NaN     NaN  \n16372  Living Characters          NaN              NaN     NaN  \n16373  Living Characters          NaN              NaN     NaN  \n16374  Living Characters          NaN              NaN     NaN  \n16375  Living Characters          NaN              NaN     NaN  \n\n[16376 rows x 13 columns]",
            "text/html": "<div>\n<style scoped>\n    .dataframe tbody tr th:only-of-type {\n        vertical-align: middle;\n    }\n\n    .dataframe tbody tr th {\n        vertical-align: top;\n    }\n\n    .dataframe thead th {\n        text-align: right;\n    }\n</style>\n<table border=\"1\" class=\"dataframe\">\n  <thead>\n    <tr style=\"text-align: right;\">\n      <th></th>\n      <th>page_id</th>\n      <th>name</th>\n      <th>urlslug</th>\n      <th>ID</th>\n      <th>ALIGN</th>\n      <th>EYE</th>\n      <th>HAIR</th>\n      <th>SEX</th>\n      <th>GSM</th>\n      <th>ALIVE</th>\n      <th>APPEARANCES</th>\n      <th>FIRST APPEARANCE</th>\n      <th>Year</th>\n    </tr>\n  </thead>\n  <tbody>\n    <tr>\n      <th>0</th>\n      <td>1678</td>\n      <td>Spider-Man (Peter Parker)</td>\n      <td>\\/Spider-Man_(Peter_Parker)</td>\n      <td>Secret Identity</td>\n      <td>Good Characters</td>\n      <td>Hazel Eyes</td>\n      <td>Brown Hair</td>\n      <td>Male Characters</td>\n      <td>NaN</td>\n      <td>Living Characters</td>\n      <td>4043.0</td>\n      <td>Aug-62</td>\n      <td>1962.0</td>\n    </tr>\n    <tr>\n      <th>1</th>\n      <td>7139</td>\n      <td>Captain America (Steven Rogers)</td>\n      <td>\\/Captain_America_(Steven_Rogers)</td>\n      <td>Public Identity</td>\n      <td>Good Characters</td>\n      <td>Blue Eyes</td>\n      <td>White Hair</td>\n      <td>Male Characters</td>\n      <td>NaN</td>\n      <td>Living Characters</td>\n      <td>3360.0</td>\n      <td>Mar-41</td>\n      <td>1941.0</td>\n    </tr>\n    <tr>\n      <th>2</th>\n      <td>64786</td>\n      <td>Wolverine (James \\\"Logan\\\" Howlett)</td>\n      <td>\\/Wolverine_(James_%22Logan%22_Howlett)</td>\n      <td>Public Identity</td>\n      <td>Neutral Characters</td>\n      <td>Blue Eyes</td>\n      <td>Black Hair</td>\n      <td>Male Characters</td>\n      <td>NaN</td>\n      <td>Living Characters</td>\n      <td>3061.0</td>\n      <td>Oct-74</td>\n      <td>1974.0</td>\n    </tr>\n    <tr>\n      <th>3</th>\n      <td>1868</td>\n      <td>Iron Man (Anthony \\\"Tony\\\" Stark)</td>\n      <td>\\/Iron_Man_(Anthony_%22Tony%22_Stark)</td>\n      <td>Public Identity</td>\n      <td>Good Characters</td>\n      <td>Blue Eyes</td>\n      <td>Black Hair</td>\n      <td>Male Characters</td>\n      <td>NaN</td>\n      <td>Living Characters</td>\n      <td>2961.0</td>\n      <td>Mar-63</td>\n      <td>1963.0</td>\n    </tr>\n    <tr>\n      <th>4</th>\n      <td>2460</td>\n      <td>Thor (Thor Odinson)</td>\n      <td>\\/Thor_(Thor_Odinson)</td>\n      <td>No Dual Identity</td>\n      <td>Good Characters</td>\n      <td>Blue Eyes</td>\n      <td>Blond Hair</td>\n      <td>Male Characters</td>\n      <td>NaN</td>\n      <td>Living Characters</td>\n      <td>2258.0</td>\n      <td>Nov-50</td>\n      <td>1950.0</td>\n    </tr>\n    <tr>\n      <th>...</th>\n      <td>...</td>\n      <td>...</td>\n      <td>...</td>\n      <td>...</td>\n      <td>...</td>\n      <td>...</td>\n      <td>...</td>\n      <td>...</td>\n      <td>...</td>\n      <td>...</td>\n      <td>...</td>\n      <td>...</td>\n      <td>...</td>\n    </tr>\n    <tr>\n      <th>16371</th>\n      <td>657508</td>\n      <td>Ru'ach (Earth-616)</td>\n      <td>\\/Ru%27ach_(Earth-616)</td>\n      <td>No Dual Identity</td>\n      <td>Bad Characters</td>\n      <td>Green Eyes</td>\n      <td>No Hair</td>\n      <td>Male Characters</td>\n      <td>NaN</td>\n      <td>Living Characters</td>\n      <td>NaN</td>\n      <td>NaN</td>\n      <td>NaN</td>\n    </tr>\n    <tr>\n      <th>16372</th>\n      <td>665474</td>\n      <td>Thane (Thanos' son) (Earth-616)</td>\n      <td>\\/Thane_(Thanos%27_son)_(Earth-616)</td>\n      <td>No Dual Identity</td>\n      <td>Good Characters</td>\n      <td>Blue Eyes</td>\n      <td>Bald</td>\n      <td>Male Characters</td>\n      <td>NaN</td>\n      <td>Living Characters</td>\n      <td>NaN</td>\n      <td>NaN</td>\n      <td>NaN</td>\n    </tr>\n    <tr>\n      <th>16373</th>\n      <td>695217</td>\n      <td>Tinkerer (Skrull) (Earth-616)</td>\n      <td>\\/Tinkerer_(Skrull)_(Earth-616)</td>\n      <td>Secret Identity</td>\n      <td>Bad Characters</td>\n      <td>Black Eyes</td>\n      <td>Bald</td>\n      <td>Male Characters</td>\n      <td>NaN</td>\n      <td>Living Characters</td>\n      <td>NaN</td>\n      <td>NaN</td>\n      <td>NaN</td>\n    </tr>\n    <tr>\n      <th>16374</th>\n      <td>708811</td>\n      <td>TK421 (Spiderling) (Earth-616)</td>\n      <td>\\/TK421_(Spiderling)_(Earth-616)</td>\n      <td>Secret Identity</td>\n      <td>Neutral Characters</td>\n      <td>NaN</td>\n      <td>NaN</td>\n      <td>Male Characters</td>\n      <td>NaN</td>\n      <td>Living Characters</td>\n      <td>NaN</td>\n      <td>NaN</td>\n      <td>NaN</td>\n    </tr>\n    <tr>\n      <th>16375</th>\n      <td>673702</td>\n      <td>Yologarch (Earth-616)</td>\n      <td>\\/Yologarch_(Earth-616)</td>\n      <td>NaN</td>\n      <td>Bad Characters</td>\n      <td>NaN</td>\n      <td>NaN</td>\n      <td>NaN</td>\n      <td>NaN</td>\n      <td>Living Characters</td>\n      <td>NaN</td>\n      <td>NaN</td>\n      <td>NaN</td>\n    </tr>\n  </tbody>\n</table>\n<p>16376 rows × 13 columns</p>\n</div>"
          },
          "metadata": {}
        }
      ],
      "execution_count": 4
    },
    {
      "cell_type": "code",
      "source": "data.dtypes",
      "metadata": {
        "trusted": true
      },
      "outputs": [
        {
          "execution_count": 5,
          "output_type": "execute_result",
          "data": {
            "text/plain": "page_id               int64\nname                 object\nurlslug              object\nID                   object\nALIGN                object\nEYE                  object\nHAIR                 object\nSEX                  object\nGSM                  object\nALIVE                object\nAPPEARANCES         float64\nFIRST APPEARANCE     object\nYear                float64\ndtype: object"
          },
          "metadata": {}
        }
      ],
      "execution_count": 5
    },
    {
      "cell_type": "markdown",
      "source": "# Обработка пустых значений",
      "metadata": {}
    },
    {
      "cell_type": "code",
      "source": "# Проверим наличие пустых значений\nfor col in data.columns:\n    # Количество пустых значений\n    temp_null_count = data[data[col].isnull()].shape[0]\n    print('{} - {}'.format(col, temp_null_count))",
      "metadata": {
        "trusted": true
      },
      "outputs": [
        {
          "name": "stdout",
          "text": "page_id - 0\nname - 0\nurlslug - 0\nID - 3770\nALIGN - 2812\nEYE - 9767\nHAIR - 4264\nSEX - 854\nGSM - 16286\nALIVE - 3\nAPPEARANCES - 1096\nFIRST APPEARANCE - 815\nYear - 815\n",
          "output_type": "stream"
        }
      ],
      "execution_count": 6
    },
    {
      "cell_type": "markdown",
      "source": "### Удалим колонки в которых пропущено более проловины всех значений. Затем удалим строки с пропусками.",
      "metadata": {}
    },
    {
      "cell_type": "code",
      "source": "try: \n    data = data.drop(['GSM', 'EYE'], axis=1)\n    data = data.dropna(axis=0, how='any')\nexcept:\n    pass\ndata.shape",
      "metadata": {
        "trusted": true
      },
      "outputs": [
        {
          "execution_count": 7,
          "output_type": "execute_result",
          "data": {
            "text/plain": "(8020, 11)"
          },
          "metadata": {}
        }
      ],
      "execution_count": 7
    },
    {
      "cell_type": "markdown",
      "source": "# Кодирование категориальных признаков",
      "metadata": {}
    },
    {
      "cell_type": "code",
      "source": "#удалим признаки, не влияющие на целевой признак\ntry:\n    data = data.drop(['name', 'urlslug','FIRST APPEARANCE'], axis=1)\nexcept:\n    pass\ndata.head()",
      "metadata": {
        "trusted": true
      },
      "outputs": [
        {
          "execution_count": 41,
          "output_type": "execute_result",
          "data": {
            "text/plain": "   page_id        ID  ALIGN      HAIR  SEX  ALIVE  APPEARANCES    Year\n0     1678  1.000000    0.5  0.250000  1.0    1.0       4043.0  1962.0\n1     7139  0.666667    0.5  0.958333  1.0    1.0       3360.0  1941.0\n2    64786  0.666667    1.0  0.083333  1.0    1.0       3061.0  1974.0\n3     1868  0.666667    0.5  0.083333  1.0    1.0       2961.0  1963.0\n4     2460  0.333333    0.5  0.125000  1.0    1.0       2258.0  1950.0",
            "text/html": "<div>\n<style scoped>\n    .dataframe tbody tr th:only-of-type {\n        vertical-align: middle;\n    }\n\n    .dataframe tbody tr th {\n        vertical-align: top;\n    }\n\n    .dataframe thead th {\n        text-align: right;\n    }\n</style>\n<table border=\"1\" class=\"dataframe\">\n  <thead>\n    <tr style=\"text-align: right;\">\n      <th></th>\n      <th>page_id</th>\n      <th>ID</th>\n      <th>ALIGN</th>\n      <th>HAIR</th>\n      <th>SEX</th>\n      <th>ALIVE</th>\n      <th>APPEARANCES</th>\n      <th>Year</th>\n    </tr>\n  </thead>\n  <tbody>\n    <tr>\n      <th>0</th>\n      <td>1678</td>\n      <td>1.000000</td>\n      <td>0.5</td>\n      <td>0.250000</td>\n      <td>1.0</td>\n      <td>1.0</td>\n      <td>4043.0</td>\n      <td>1962.0</td>\n    </tr>\n    <tr>\n      <th>1</th>\n      <td>7139</td>\n      <td>0.666667</td>\n      <td>0.5</td>\n      <td>0.958333</td>\n      <td>1.0</td>\n      <td>1.0</td>\n      <td>3360.0</td>\n      <td>1941.0</td>\n    </tr>\n    <tr>\n      <th>2</th>\n      <td>64786</td>\n      <td>0.666667</td>\n      <td>1.0</td>\n      <td>0.083333</td>\n      <td>1.0</td>\n      <td>1.0</td>\n      <td>3061.0</td>\n      <td>1974.0</td>\n    </tr>\n    <tr>\n      <th>3</th>\n      <td>1868</td>\n      <td>0.666667</td>\n      <td>0.5</td>\n      <td>0.083333</td>\n      <td>1.0</td>\n      <td>1.0</td>\n      <td>2961.0</td>\n      <td>1963.0</td>\n    </tr>\n    <tr>\n      <th>4</th>\n      <td>2460</td>\n      <td>0.333333</td>\n      <td>0.5</td>\n      <td>0.125000</td>\n      <td>1.0</td>\n      <td>1.0</td>\n      <td>2258.0</td>\n      <td>1950.0</td>\n    </tr>\n  </tbody>\n</table>\n</div>"
          },
          "metadata": {}
        }
      ],
      "execution_count": 41
    },
    {
      "cell_type": "code",
      "source": "from sklearn.preprocessing import LabelEncoder, OneHotEncoder\nle = LabelEncoder()\ndf_int = le.fit_transform(data['ID'])\ndata['ID'] = df_int\ndf_int = le.fit_transform(data['ALIGN'])\ndata['ALIGN'] = df_int\ndf_int = le.fit_transform(data['HAIR'])\ndata['HAIR'] = df_int\ndf_int = le.fit_transform(data['SEX'])\ndata['SEX'] = df_int\ndf_int = le.fit_transform(data['ALIVE'])\ndata['ALIVE'] = df_int\ndata.head()",
      "metadata": {
        "trusted": true
      },
      "outputs": [
        {
          "execution_count": 42,
          "output_type": "execute_result",
          "data": {
            "text/plain": "   page_id  ID  ALIGN  HAIR  SEX  ALIVE  APPEARANCES    Year\n0     1678   3      1     6    3      1       4043.0  1962.0\n1     7139   2      1    23    3      1       3360.0  1941.0\n2    64786   2      2     2    3      1       3061.0  1974.0\n3     1868   2      1     2    3      1       2961.0  1963.0\n4     2460   1      1     3    3      1       2258.0  1950.0",
            "text/html": "<div>\n<style scoped>\n    .dataframe tbody tr th:only-of-type {\n        vertical-align: middle;\n    }\n\n    .dataframe tbody tr th {\n        vertical-align: top;\n    }\n\n    .dataframe thead th {\n        text-align: right;\n    }\n</style>\n<table border=\"1\" class=\"dataframe\">\n  <thead>\n    <tr style=\"text-align: right;\">\n      <th></th>\n      <th>page_id</th>\n      <th>ID</th>\n      <th>ALIGN</th>\n      <th>HAIR</th>\n      <th>SEX</th>\n      <th>ALIVE</th>\n      <th>APPEARANCES</th>\n      <th>Year</th>\n    </tr>\n  </thead>\n  <tbody>\n    <tr>\n      <th>0</th>\n      <td>1678</td>\n      <td>3</td>\n      <td>1</td>\n      <td>6</td>\n      <td>3</td>\n      <td>1</td>\n      <td>4043.0</td>\n      <td>1962.0</td>\n    </tr>\n    <tr>\n      <th>1</th>\n      <td>7139</td>\n      <td>2</td>\n      <td>1</td>\n      <td>23</td>\n      <td>3</td>\n      <td>1</td>\n      <td>3360.0</td>\n      <td>1941.0</td>\n    </tr>\n    <tr>\n      <th>2</th>\n      <td>64786</td>\n      <td>2</td>\n      <td>2</td>\n      <td>2</td>\n      <td>3</td>\n      <td>1</td>\n      <td>3061.0</td>\n      <td>1974.0</td>\n    </tr>\n    <tr>\n      <th>3</th>\n      <td>1868</td>\n      <td>2</td>\n      <td>1</td>\n      <td>2</td>\n      <td>3</td>\n      <td>1</td>\n      <td>2961.0</td>\n      <td>1963.0</td>\n    </tr>\n    <tr>\n      <th>4</th>\n      <td>2460</td>\n      <td>1</td>\n      <td>1</td>\n      <td>3</td>\n      <td>3</td>\n      <td>1</td>\n      <td>2258.0</td>\n      <td>1950.0</td>\n    </tr>\n  </tbody>\n</table>\n</div>"
          },
          "metadata": {}
        }
      ],
      "execution_count": 42
    },
    {
      "cell_type": "code",
      "source": "sc1 = MinMaxScaler()\ndata['ID'] = sc1.fit_transform(data[['ID']])\ndata['ALIGN'] = sc1.fit_transform(data[['ALIGN']])\ndata['HAIR'] = sc1.fit_transform(data[['HAIR']])\ndata['SEX'] = sc1.fit_transform(data[['SEX']])\ndata['ALIVE'] = sc1.fit_transform(data[['ALIVE']])\ndata.head()",
      "metadata": {
        "trusted": true
      },
      "outputs": [
        {
          "execution_count": 43,
          "output_type": "execute_result",
          "data": {
            "text/plain": "   page_id        ID  ALIGN      HAIR  SEX  ALIVE  APPEARANCES    Year\n0     1678  1.000000    0.5  0.250000  1.0    1.0       4043.0  1962.0\n1     7139  0.666667    0.5  0.958333  1.0    1.0       3360.0  1941.0\n2    64786  0.666667    1.0  0.083333  1.0    1.0       3061.0  1974.0\n3     1868  0.666667    0.5  0.083333  1.0    1.0       2961.0  1963.0\n4     2460  0.333333    0.5  0.125000  1.0    1.0       2258.0  1950.0",
            "text/html": "<div>\n<style scoped>\n    .dataframe tbody tr th:only-of-type {\n        vertical-align: middle;\n    }\n\n    .dataframe tbody tr th {\n        vertical-align: top;\n    }\n\n    .dataframe thead th {\n        text-align: right;\n    }\n</style>\n<table border=\"1\" class=\"dataframe\">\n  <thead>\n    <tr style=\"text-align: right;\">\n      <th></th>\n      <th>page_id</th>\n      <th>ID</th>\n      <th>ALIGN</th>\n      <th>HAIR</th>\n      <th>SEX</th>\n      <th>ALIVE</th>\n      <th>APPEARANCES</th>\n      <th>Year</th>\n    </tr>\n  </thead>\n  <tbody>\n    <tr>\n      <th>0</th>\n      <td>1678</td>\n      <td>1.000000</td>\n      <td>0.5</td>\n      <td>0.250000</td>\n      <td>1.0</td>\n      <td>1.0</td>\n      <td>4043.0</td>\n      <td>1962.0</td>\n    </tr>\n    <tr>\n      <th>1</th>\n      <td>7139</td>\n      <td>0.666667</td>\n      <td>0.5</td>\n      <td>0.958333</td>\n      <td>1.0</td>\n      <td>1.0</td>\n      <td>3360.0</td>\n      <td>1941.0</td>\n    </tr>\n    <tr>\n      <th>2</th>\n      <td>64786</td>\n      <td>0.666667</td>\n      <td>1.0</td>\n      <td>0.083333</td>\n      <td>1.0</td>\n      <td>1.0</td>\n      <td>3061.0</td>\n      <td>1974.0</td>\n    </tr>\n    <tr>\n      <th>3</th>\n      <td>1868</td>\n      <td>0.666667</td>\n      <td>0.5</td>\n      <td>0.083333</td>\n      <td>1.0</td>\n      <td>1.0</td>\n      <td>2961.0</td>\n      <td>1963.0</td>\n    </tr>\n    <tr>\n      <th>4</th>\n      <td>2460</td>\n      <td>0.333333</td>\n      <td>0.5</td>\n      <td>0.125000</td>\n      <td>1.0</td>\n      <td>1.0</td>\n      <td>2258.0</td>\n      <td>1950.0</td>\n    </tr>\n  </tbody>\n</table>\n</div>"
          },
          "metadata": {}
        }
      ],
      "execution_count": 43
    },
    {
      "cell_type": "markdown",
      "source": "# Разделение на обучающую и тестовую выборки.",
      "metadata": {}
    },
    {
      "cell_type": "code",
      "source": "target = data['ALIVE']\ndata_X_train, data_X_test, data_y_train, data_y_test = train_test_split(\n    data, target, test_size=0.2, random_state=1)",
      "metadata": {
        "trusted": true
      },
      "outputs": [],
      "execution_count": 44
    },
    {
      "cell_type": "code",
      "source": "data_X_train.shape, data_X_test.shape, data_y_train.shape, data_y_test.shape",
      "metadata": {
        "trusted": true
      },
      "outputs": [
        {
          "execution_count": 45,
          "output_type": "execute_result",
          "data": {
            "text/plain": "((6416, 8), (1604, 8), (6416,), (1604,))"
          },
          "metadata": {}
        }
      ],
      "execution_count": 45
    },
    {
      "cell_type": "markdown",
      "source": "# Метод опорных векторов",
      "metadata": {}
    },
    {
      "cell_type": "markdown",
      "source": "## Cтандартная модель без доп параметров",
      "metadata": {}
    },
    {
      "cell_type": "code",
      "source": "svr_1 = LinearSVC(dual=False)\nsvr_1.fit(data_X_train, data_y_train)\n",
      "metadata": {
        "trusted": true
      },
      "outputs": [
        {
          "execution_count": 46,
          "output_type": "execute_result",
          "data": {
            "text/plain": "LinearSVC(dual=False)",
            "text/html": "<style>#sk-container-id-4 {color: black;}#sk-container-id-4 pre{padding: 0;}#sk-container-id-4 div.sk-toggleable {background-color: white;}#sk-container-id-4 label.sk-toggleable__label {cursor: pointer;display: block;width: 100%;margin-bottom: 0;padding: 0.3em;box-sizing: border-box;text-align: center;}#sk-container-id-4 label.sk-toggleable__label-arrow:before {content: \"▸\";float: left;margin-right: 0.25em;color: #696969;}#sk-container-id-4 label.sk-toggleable__label-arrow:hover:before {color: black;}#sk-container-id-4 div.sk-estimator:hover label.sk-toggleable__label-arrow:before {color: black;}#sk-container-id-4 div.sk-toggleable__content {max-height: 0;max-width: 0;overflow: hidden;text-align: left;background-color: #f0f8ff;}#sk-container-id-4 div.sk-toggleable__content pre {margin: 0.2em;color: black;border-radius: 0.25em;background-color: #f0f8ff;}#sk-container-id-4 input.sk-toggleable__control:checked~div.sk-toggleable__content {max-height: 200px;max-width: 100%;overflow: auto;}#sk-container-id-4 input.sk-toggleable__control:checked~label.sk-toggleable__label-arrow:before {content: \"▾\";}#sk-container-id-4 div.sk-estimator input.sk-toggleable__control:checked~label.sk-toggleable__label {background-color: #d4ebff;}#sk-container-id-4 div.sk-label input.sk-toggleable__control:checked~label.sk-toggleable__label {background-color: #d4ebff;}#sk-container-id-4 input.sk-hidden--visually {border: 0;clip: rect(1px 1px 1px 1px);clip: rect(1px, 1px, 1px, 1px);height: 1px;margin: -1px;overflow: hidden;padding: 0;position: absolute;width: 1px;}#sk-container-id-4 div.sk-estimator {font-family: monospace;background-color: #f0f8ff;border: 1px dotted black;border-radius: 0.25em;box-sizing: border-box;margin-bottom: 0.5em;}#sk-container-id-4 div.sk-estimator:hover {background-color: #d4ebff;}#sk-container-id-4 div.sk-parallel-item::after {content: \"\";width: 100%;border-bottom: 1px solid gray;flex-grow: 1;}#sk-container-id-4 div.sk-label:hover label.sk-toggleable__label {background-color: #d4ebff;}#sk-container-id-4 div.sk-serial::before {content: \"\";position: absolute;border-left: 1px solid gray;box-sizing: border-box;top: 0;bottom: 0;left: 50%;z-index: 0;}#sk-container-id-4 div.sk-serial {display: flex;flex-direction: column;align-items: center;background-color: white;padding-right: 0.2em;padding-left: 0.2em;position: relative;}#sk-container-id-4 div.sk-item {position: relative;z-index: 1;}#sk-container-id-4 div.sk-parallel {display: flex;align-items: stretch;justify-content: center;background-color: white;position: relative;}#sk-container-id-4 div.sk-item::before, #sk-container-id-4 div.sk-parallel-item::before {content: \"\";position: absolute;border-left: 1px solid gray;box-sizing: border-box;top: 0;bottom: 0;left: 50%;z-index: -1;}#sk-container-id-4 div.sk-parallel-item {display: flex;flex-direction: column;z-index: 1;position: relative;background-color: white;}#sk-container-id-4 div.sk-parallel-item:first-child::after {align-self: flex-end;width: 50%;}#sk-container-id-4 div.sk-parallel-item:last-child::after {align-self: flex-start;width: 50%;}#sk-container-id-4 div.sk-parallel-item:only-child::after {width: 0;}#sk-container-id-4 div.sk-dashed-wrapped {border: 1px dashed gray;margin: 0 0.4em 0.5em 0.4em;box-sizing: border-box;padding-bottom: 0.4em;background-color: white;}#sk-container-id-4 div.sk-label label {font-family: monospace;font-weight: bold;display: inline-block;line-height: 1.2em;}#sk-container-id-4 div.sk-label-container {text-align: center;}#sk-container-id-4 div.sk-container {/* jupyter's `normalize.less` sets `[hidden] { display: none; }` but bootstrap.min.css set `[hidden] { display: none !important; }` so we also need the `!important` here to be able to override the default hidden behavior on the sphinx rendered scikit-learn.org. See: https://github.com/scikit-learn/scikit-learn/issues/21755 */display: inline-block !important;position: relative;}#sk-container-id-4 div.sk-text-repr-fallback {display: none;}</style><div id=\"sk-container-id-4\" class=\"sk-top-container\"><div class=\"sk-text-repr-fallback\"><pre>LinearSVC(dual=False)</pre><b>In a Jupyter environment, please rerun this cell to show the HTML representation or trust the notebook. <br />On GitHub, the HTML representation is unable to render, please try loading this page with nbviewer.org.</b></div><div class=\"sk-container\" hidden><div class=\"sk-item\"><div class=\"sk-estimator sk-toggleable\"><input class=\"sk-toggleable__control sk-hidden--visually\" id=\"sk-estimator-id-4\" type=\"checkbox\" checked><label for=\"sk-estimator-id-4\" class=\"sk-toggleable__label sk-toggleable__label-arrow\">LinearSVC</label><div class=\"sk-toggleable__content\"><pre>LinearSVC(dual=False)</pre></div></div></div></div></div>"
          },
          "metadata": {}
        }
      ],
      "execution_count": 46
    },
    {
      "cell_type": "code",
      "source": "data_y_pred_1 = svr_1.predict(data_X_test)",
      "metadata": {
        "trusted": true
      },
      "outputs": [],
      "execution_count": 47
    },
    {
      "cell_type": "code",
      "source": "accuracy_score(data_y_test, data_y_pred_1)",
      "metadata": {
        "trusted": true
      },
      "outputs": [
        {
          "execution_count": 48,
          "output_type": "execute_result",
          "data": {
            "text/plain": "0.7356608478802993"
          },
          "metadata": {}
        }
      ],
      "execution_count": 48
    },
    {
      "cell_type": "code",
      "source": "f1_score(data_y_test, data_y_pred_1, average='micro')",
      "metadata": {
        "trusted": true
      },
      "outputs": [
        {
          "execution_count": 49,
          "output_type": "execute_result",
          "data": {
            "text/plain": "0.7356608478802993"
          },
          "metadata": {}
        }
      ],
      "execution_count": 49
    },
    {
      "cell_type": "code",
      "source": "f1_score(data_y_test, data_y_pred_1, average='macro')",
      "metadata": {
        "trusted": true
      },
      "outputs": [
        {
          "execution_count": 50,
          "output_type": "execute_result",
          "data": {
            "text/plain": "0.4238505747126437"
          },
          "metadata": {}
        }
      ],
      "execution_count": 50
    },
    {
      "cell_type": "code",
      "source": "f1_score(data_y_test, data_y_pred_1, average='weighted')",
      "metadata": {
        "trusted": true
      },
      "outputs": [
        {
          "execution_count": 51,
          "output_type": "execute_result",
          "data": {
            "text/plain": "0.6236205463353112"
          },
          "metadata": {}
        }
      ],
      "execution_count": 51
    },
    {
      "cell_type": "markdown",
      "source": "## Добавим параметр регуляризации (С), который контролирует штраф за неправильную классификацию обучающих образцов",
      "metadata": {}
    },
    {
      "cell_type": "code",
      "source": "svr_2 = LinearSVC(C=1.0, max_iter=10000, dual=False)\nsvr_2.fit(data_X_train, data_y_train)",
      "metadata": {
        "trusted": true
      },
      "outputs": [
        {
          "execution_count": 52,
          "output_type": "execute_result",
          "data": {
            "text/plain": "LinearSVC(dual=False, max_iter=10000)",
            "text/html": "<style>#sk-container-id-5 {color: black;}#sk-container-id-5 pre{padding: 0;}#sk-container-id-5 div.sk-toggleable {background-color: white;}#sk-container-id-5 label.sk-toggleable__label {cursor: pointer;display: block;width: 100%;margin-bottom: 0;padding: 0.3em;box-sizing: border-box;text-align: center;}#sk-container-id-5 label.sk-toggleable__label-arrow:before {content: \"▸\";float: left;margin-right: 0.25em;color: #696969;}#sk-container-id-5 label.sk-toggleable__label-arrow:hover:before {color: black;}#sk-container-id-5 div.sk-estimator:hover label.sk-toggleable__label-arrow:before {color: black;}#sk-container-id-5 div.sk-toggleable__content {max-height: 0;max-width: 0;overflow: hidden;text-align: left;background-color: #f0f8ff;}#sk-container-id-5 div.sk-toggleable__content pre {margin: 0.2em;color: black;border-radius: 0.25em;background-color: #f0f8ff;}#sk-container-id-5 input.sk-toggleable__control:checked~div.sk-toggleable__content {max-height: 200px;max-width: 100%;overflow: auto;}#sk-container-id-5 input.sk-toggleable__control:checked~label.sk-toggleable__label-arrow:before {content: \"▾\";}#sk-container-id-5 div.sk-estimator input.sk-toggleable__control:checked~label.sk-toggleable__label {background-color: #d4ebff;}#sk-container-id-5 div.sk-label input.sk-toggleable__control:checked~label.sk-toggleable__label {background-color: #d4ebff;}#sk-container-id-5 input.sk-hidden--visually {border: 0;clip: rect(1px 1px 1px 1px);clip: rect(1px, 1px, 1px, 1px);height: 1px;margin: -1px;overflow: hidden;padding: 0;position: absolute;width: 1px;}#sk-container-id-5 div.sk-estimator {font-family: monospace;background-color: #f0f8ff;border: 1px dotted black;border-radius: 0.25em;box-sizing: border-box;margin-bottom: 0.5em;}#sk-container-id-5 div.sk-estimator:hover {background-color: #d4ebff;}#sk-container-id-5 div.sk-parallel-item::after {content: \"\";width: 100%;border-bottom: 1px solid gray;flex-grow: 1;}#sk-container-id-5 div.sk-label:hover label.sk-toggleable__label {background-color: #d4ebff;}#sk-container-id-5 div.sk-serial::before {content: \"\";position: absolute;border-left: 1px solid gray;box-sizing: border-box;top: 0;bottom: 0;left: 50%;z-index: 0;}#sk-container-id-5 div.sk-serial {display: flex;flex-direction: column;align-items: center;background-color: white;padding-right: 0.2em;padding-left: 0.2em;position: relative;}#sk-container-id-5 div.sk-item {position: relative;z-index: 1;}#sk-container-id-5 div.sk-parallel {display: flex;align-items: stretch;justify-content: center;background-color: white;position: relative;}#sk-container-id-5 div.sk-item::before, #sk-container-id-5 div.sk-parallel-item::before {content: \"\";position: absolute;border-left: 1px solid gray;box-sizing: border-box;top: 0;bottom: 0;left: 50%;z-index: -1;}#sk-container-id-5 div.sk-parallel-item {display: flex;flex-direction: column;z-index: 1;position: relative;background-color: white;}#sk-container-id-5 div.sk-parallel-item:first-child::after {align-self: flex-end;width: 50%;}#sk-container-id-5 div.sk-parallel-item:last-child::after {align-self: flex-start;width: 50%;}#sk-container-id-5 div.sk-parallel-item:only-child::after {width: 0;}#sk-container-id-5 div.sk-dashed-wrapped {border: 1px dashed gray;margin: 0 0.4em 0.5em 0.4em;box-sizing: border-box;padding-bottom: 0.4em;background-color: white;}#sk-container-id-5 div.sk-label label {font-family: monospace;font-weight: bold;display: inline-block;line-height: 1.2em;}#sk-container-id-5 div.sk-label-container {text-align: center;}#sk-container-id-5 div.sk-container {/* jupyter's `normalize.less` sets `[hidden] { display: none; }` but bootstrap.min.css set `[hidden] { display: none !important; }` so we also need the `!important` here to be able to override the default hidden behavior on the sphinx rendered scikit-learn.org. See: https://github.com/scikit-learn/scikit-learn/issues/21755 */display: inline-block !important;position: relative;}#sk-container-id-5 div.sk-text-repr-fallback {display: none;}</style><div id=\"sk-container-id-5\" class=\"sk-top-container\"><div class=\"sk-text-repr-fallback\"><pre>LinearSVC(dual=False, max_iter=10000)</pre><b>In a Jupyter environment, please rerun this cell to show the HTML representation or trust the notebook. <br />On GitHub, the HTML representation is unable to render, please try loading this page with nbviewer.org.</b></div><div class=\"sk-container\" hidden><div class=\"sk-item\"><div class=\"sk-estimator sk-toggleable\"><input class=\"sk-toggleable__control sk-hidden--visually\" id=\"sk-estimator-id-5\" type=\"checkbox\" checked><label for=\"sk-estimator-id-5\" class=\"sk-toggleable__label sk-toggleable__label-arrow\">LinearSVC</label><div class=\"sk-toggleable__content\"><pre>LinearSVC(dual=False, max_iter=10000)</pre></div></div></div></div></div>"
          },
          "metadata": {}
        }
      ],
      "execution_count": 52
    },
    {
      "cell_type": "code",
      "source": "data_y_pred_2 = svr_2.predict(data_X_test)",
      "metadata": {
        "trusted": true
      },
      "outputs": [],
      "execution_count": 53
    },
    {
      "cell_type": "code",
      "source": "accuracy_score(data_y_test, data_y_pred_2)",
      "metadata": {
        "trusted": true
      },
      "outputs": [
        {
          "execution_count": 54,
          "output_type": "execute_result",
          "data": {
            "text/plain": "0.7356608478802993"
          },
          "metadata": {}
        }
      ],
      "execution_count": 54
    },
    {
      "cell_type": "code",
      "source": "f1_score(data_y_test, data_y_pred_2, average='micro')",
      "metadata": {
        "trusted": true
      },
      "outputs": [
        {
          "execution_count": 55,
          "output_type": "execute_result",
          "data": {
            "text/plain": "0.7356608478802993"
          },
          "metadata": {}
        }
      ],
      "execution_count": 55
    },
    {
      "cell_type": "code",
      "source": "f1_score(data_y_test, data_y_pred_2, average='macro')",
      "metadata": {
        "trusted": true
      },
      "outputs": [
        {
          "execution_count": 56,
          "output_type": "execute_result",
          "data": {
            "text/plain": "0.4238505747126437"
          },
          "metadata": {}
        }
      ],
      "execution_count": 56
    },
    {
      "cell_type": "code",
      "source": "f1_score(data_y_test, data_y_pred_2, average='weighted')",
      "metadata": {
        "trusted": true
      },
      "outputs": [
        {
          "execution_count": 57,
          "output_type": "execute_result",
          "data": {
            "text/plain": "0.6236205463353112"
          },
          "metadata": {}
        }
      ],
      "execution_count": 57
    },
    {
      "cell_type": "markdown",
      "source": "# Градиентный бустинг",
      "metadata": {}
    },
    {
      "cell_type": "markdown",
      "source": " ## Модель градиентного бустинга с использованием библиотеки xgboost",
      "metadata": {}
    },
    {
      "cell_type": "code",
      "source": "ab1 = XGBClassifier()\nab1.fit(data_X_train, data_y_train)",
      "metadata": {
        "trusted": true
      },
      "outputs": [
        {
          "execution_count": 248,
          "output_type": "execute_result",
          "data": {
            "text/plain": "XGBClassifier(base_score=0.5, booster='gbtree', callbacks=None,\n              colsample_bylevel=1, colsample_bynode=1, colsample_bytree=1,\n              early_stopping_rounds=None, enable_categorical=False,\n              eval_metric=None, gamma=0, gpu_id=-1, grow_policy='depthwise',\n              importance_type=None, interaction_constraints='',\n              learning_rate=0.1, max_bin=256, max_cat_to_onehot=4,\n              max_delta_step=0, max_depth=6, max_leaves=0, min_child_weight=1,\n              missing=nan, monotone_constraints='()', n_estimators=100,\n              n_jobs=0, num_parallel_tree=1, predictor='auto', random_state=0,\n              reg_alpha=0, reg_lambda=1, ...)",
            "text/html": "<style>#sk-container-id-29 {color: black;}#sk-container-id-29 pre{padding: 0;}#sk-container-id-29 div.sk-toggleable {background-color: white;}#sk-container-id-29 label.sk-toggleable__label {cursor: pointer;display: block;width: 100%;margin-bottom: 0;padding: 0.3em;box-sizing: border-box;text-align: center;}#sk-container-id-29 label.sk-toggleable__label-arrow:before {content: \"▸\";float: left;margin-right: 0.25em;color: #696969;}#sk-container-id-29 label.sk-toggleable__label-arrow:hover:before {color: black;}#sk-container-id-29 div.sk-estimator:hover label.sk-toggleable__label-arrow:before {color: black;}#sk-container-id-29 div.sk-toggleable__content {max-height: 0;max-width: 0;overflow: hidden;text-align: left;background-color: #f0f8ff;}#sk-container-id-29 div.sk-toggleable__content pre {margin: 0.2em;color: black;border-radius: 0.25em;background-color: #f0f8ff;}#sk-container-id-29 input.sk-toggleable__control:checked~div.sk-toggleable__content {max-height: 200px;max-width: 100%;overflow: auto;}#sk-container-id-29 input.sk-toggleable__control:checked~label.sk-toggleable__label-arrow:before {content: \"▾\";}#sk-container-id-29 div.sk-estimator input.sk-toggleable__control:checked~label.sk-toggleable__label {background-color: #d4ebff;}#sk-container-id-29 div.sk-label input.sk-toggleable__control:checked~label.sk-toggleable__label {background-color: #d4ebff;}#sk-container-id-29 input.sk-hidden--visually {border: 0;clip: rect(1px 1px 1px 1px);clip: rect(1px, 1px, 1px, 1px);height: 1px;margin: -1px;overflow: hidden;padding: 0;position: absolute;width: 1px;}#sk-container-id-29 div.sk-estimator {font-family: monospace;background-color: #f0f8ff;border: 1px dotted black;border-radius: 0.25em;box-sizing: border-box;margin-bottom: 0.5em;}#sk-container-id-29 div.sk-estimator:hover {background-color: #d4ebff;}#sk-container-id-29 div.sk-parallel-item::after {content: \"\";width: 100%;border-bottom: 1px solid gray;flex-grow: 1;}#sk-container-id-29 div.sk-label:hover label.sk-toggleable__label {background-color: #d4ebff;}#sk-container-id-29 div.sk-serial::before {content: \"\";position: absolute;border-left: 1px solid gray;box-sizing: border-box;top: 0;bottom: 0;left: 50%;z-index: 0;}#sk-container-id-29 div.sk-serial {display: flex;flex-direction: column;align-items: center;background-color: white;padding-right: 0.2em;padding-left: 0.2em;position: relative;}#sk-container-id-29 div.sk-item {position: relative;z-index: 1;}#sk-container-id-29 div.sk-parallel {display: flex;align-items: stretch;justify-content: center;background-color: white;position: relative;}#sk-container-id-29 div.sk-item::before, #sk-container-id-29 div.sk-parallel-item::before {content: \"\";position: absolute;border-left: 1px solid gray;box-sizing: border-box;top: 0;bottom: 0;left: 50%;z-index: -1;}#sk-container-id-29 div.sk-parallel-item {display: flex;flex-direction: column;z-index: 1;position: relative;background-color: white;}#sk-container-id-29 div.sk-parallel-item:first-child::after {align-self: flex-end;width: 50%;}#sk-container-id-29 div.sk-parallel-item:last-child::after {align-self: flex-start;width: 50%;}#sk-container-id-29 div.sk-parallel-item:only-child::after {width: 0;}#sk-container-id-29 div.sk-dashed-wrapped {border: 1px dashed gray;margin: 0 0.4em 0.5em 0.4em;box-sizing: border-box;padding-bottom: 0.4em;background-color: white;}#sk-container-id-29 div.sk-label label {font-family: monospace;font-weight: bold;display: inline-block;line-height: 1.2em;}#sk-container-id-29 div.sk-label-container {text-align: center;}#sk-container-id-29 div.sk-container {/* jupyter's `normalize.less` sets `[hidden] { display: none; }` but bootstrap.min.css set `[hidden] { display: none !important; }` so we also need the `!important` here to be able to override the default hidden behavior on the sphinx rendered scikit-learn.org. See: https://github.com/scikit-learn/scikit-learn/issues/21755 */display: inline-block !important;position: relative;}#sk-container-id-29 div.sk-text-repr-fallback {display: none;}</style><div id=\"sk-container-id-29\" class=\"sk-top-container\"><div class=\"sk-text-repr-fallback\"><pre>XGBClassifier(base_score=0.5, booster=&#x27;gbtree&#x27;, callbacks=None,\n              colsample_bylevel=1, colsample_bynode=1, colsample_bytree=1,\n              early_stopping_rounds=None, enable_categorical=False,\n              eval_metric=None, gamma=0, gpu_id=-1, grow_policy=&#x27;depthwise&#x27;,\n              importance_type=None, interaction_constraints=&#x27;&#x27;,\n              learning_rate=0.1, max_bin=256, max_cat_to_onehot=4,\n              max_delta_step=0, max_depth=6, max_leaves=0, min_child_weight=1,\n              missing=nan, monotone_constraints=&#x27;()&#x27;, n_estimators=100,\n              n_jobs=0, num_parallel_tree=1, predictor=&#x27;auto&#x27;, random_state=0,\n              reg_alpha=0, reg_lambda=1, ...)</pre><b>In a Jupyter environment, please rerun this cell to show the HTML representation or trust the notebook. <br />On GitHub, the HTML representation is unable to render, please try loading this page with nbviewer.org.</b></div><div class=\"sk-container\" hidden><div class=\"sk-item\"><div class=\"sk-estimator sk-toggleable\"><input class=\"sk-toggleable__control sk-hidden--visually\" id=\"sk-estimator-id-29\" type=\"checkbox\" checked><label for=\"sk-estimator-id-29\" class=\"sk-toggleable__label sk-toggleable__label-arrow\">XGBClassifier</label><div class=\"sk-toggleable__content\"><pre>XGBClassifier(base_score=0.5, booster=&#x27;gbtree&#x27;, callbacks=None,\n              colsample_bylevel=1, colsample_bynode=1, colsample_bytree=1,\n              early_stopping_rounds=None, enable_categorical=False,\n              eval_metric=None, gamma=0, gpu_id=-1, grow_policy=&#x27;depthwise&#x27;,\n              importance_type=None, interaction_constraints=&#x27;&#x27;,\n              learning_rate=0.1, max_bin=256, max_cat_to_onehot=4,\n              max_delta_step=0, max_depth=6, max_leaves=0, min_child_weight=1,\n              missing=nan, monotone_constraints=&#x27;()&#x27;, n_estimators=100,\n              n_jobs=0, num_parallel_tree=1, predictor=&#x27;auto&#x27;, random_state=0,\n              reg_alpha=0, reg_lambda=1, ...)</pre></div></div></div></div></div>"
          },
          "metadata": {}
        }
      ],
      "execution_count": 248
    },
    {
      "cell_type": "code",
      "source": "data_y_pred_1 = ab1.predict(data_X_test)",
      "metadata": {
        "trusted": true
      },
      "outputs": [],
      "execution_count": 249
    },
    {
      "cell_type": "code",
      "source": "data_y_pred_1_0 = ab1.predict(data_X_train)",
      "metadata": {
        "trusted": true
      },
      "outputs": [],
      "execution_count": 250
    },
    {
      "cell_type": "code",
      "source": "accuracy_score(data_y_train, data_y_pred_1_0)",
      "metadata": {
        "trusted": true
      },
      "outputs": [
        {
          "execution_count": 251,
          "output_type": "execute_result",
          "data": {
            "text/plain": "1.0"
          },
          "metadata": {}
        }
      ],
      "execution_count": 251
    },
    {
      "cell_type": "code",
      "source": "accuracy_score(data_y_test, data_y_pred_1)",
      "metadata": {
        "trusted": true
      },
      "outputs": [
        {
          "execution_count": 252,
          "output_type": "execute_result",
          "data": {
            "text/plain": "1.0"
          },
          "metadata": {}
        }
      ],
      "execution_count": 252
    },
    {
      "cell_type": "code",
      "source": "f1_score(data_y_test, data_y_pred_1, average='micro')",
      "metadata": {
        "trusted": true
      },
      "outputs": [
        {
          "execution_count": 253,
          "output_type": "execute_result",
          "data": {
            "text/plain": "1.0"
          },
          "metadata": {}
        }
      ],
      "execution_count": 253
    },
    {
      "cell_type": "code",
      "source": "f1_score(data_y_test, data_y_pred_1, average='macro')",
      "metadata": {
        "trusted": true
      },
      "outputs": [
        {
          "execution_count": 254,
          "output_type": "execute_result",
          "data": {
            "text/plain": "1.0"
          },
          "metadata": {}
        }
      ],
      "execution_count": 254
    },
    {
      "cell_type": "code",
      "source": "f1_score(data_y_test, data_y_pred_1, average='weighted')",
      "metadata": {
        "trusted": true
      },
      "outputs": [
        {
          "execution_count": 256,
          "output_type": "execute_result",
          "data": {
            "text/plain": "1.0"
          },
          "metadata": {}
        }
      ],
      "execution_count": 256
    },
    {
      "cell_type": "markdown",
      "source": "# Модель градиентного бустинга показала себя лучше, чем модель, основанная на методе опорных векторов",
      "metadata": {}
    }
  ]
}